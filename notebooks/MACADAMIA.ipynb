{
  "nbformat": 4,
  "nbformat_minor": 0,
  "metadata": {
    "colab": {
      "provenance": [],
      "authorship_tag": "ABX9TyNtZYJ+Nbvu7giD6srfbz+7",
      "include_colab_link": true
    },
    "kernelspec": {
      "name": "python3",
      "display_name": "Python 3"
    },
    "language_info": {
      "name": "python"
    }
  },
  "cells": [
    {
      "cell_type": "markdown",
      "metadata": {
        "id": "view-in-github",
        "colab_type": "text"
      },
      "source": [
        "<a href=\"https://colab.research.google.com/github/Jack3690/INSIST_pipeline/blob/main/notebooks/MACADAMIA.ipynb\" target=\"_parent\"><img src=\"https://colab.research.google.com/assets/colab-badge.svg\" alt=\"Open In Colab\"/></a>"
      ]
    },
    {
      "cell_type": "code",
      "execution_count": 1,
      "metadata": {
        "colab": {
          "base_uri": "https://localhost:8080/"
        },
        "id": "6MYWfduqHlqh",
        "outputId": "cfded987-c457-45ee-ee3f-5d780f7ce6cb"
      },
      "outputs": [
        {
          "output_type": "stream",
          "name": "stdout",
          "text": [
            "\u001b[2K     \u001b[90m━━━━━━━━━━━━━━━━━━━━━━━━━━━━━━━━━━━━━━━━\u001b[0m \u001b[32m15.6/15.6 MB\u001b[0m \u001b[31m57.4 MB/s\u001b[0m eta \u001b[36m0:00:00\u001b[0m\n",
            "\u001b[?25h  Preparing metadata (setup.py) ... \u001b[?25l\u001b[?25hdone\n",
            "\u001b[2K     \u001b[90m━━━━━━━━━━━━━━━━━━━━━━━━━━━━━━━━━━━━━━\u001b[0m \u001b[32m857.0/857.0 kB\u001b[0m \u001b[31m53.3 MB/s\u001b[0m eta \u001b[36m0:00:00\u001b[0m\n",
            "\u001b[2K     \u001b[90m━━━━━━━━━━━━━━━━━━━━━━━━━━━━━━━━━━━━━━━━\u001b[0m \u001b[32m1.5/1.5 MB\u001b[0m \u001b[31m73.1 MB/s\u001b[0m eta \u001b[36m0:00:00\u001b[0m\n",
            "\u001b[2K     \u001b[90m━━━━━━━━━━━━━━━━━━━━━━━━━━━━━━━━━━━━━━\u001b[0m \u001b[32m198.3/198.3 kB\u001b[0m \u001b[31m19.5 MB/s\u001b[0m eta \u001b[36m0:00:00\u001b[0m\n",
            "\u001b[2K     \u001b[90m━━━━━━━━━━━━━━━━━━━━━━━━━━━━━━━━━━━━━━\u001b[0m \u001b[32m206.1/206.1 kB\u001b[0m \u001b[31m17.7 MB/s\u001b[0m eta \u001b[36m0:00:00\u001b[0m\n",
            "\u001b[?25h  Preparing metadata (setup.py) ... \u001b[?25l\u001b[?25hdone\n",
            "\u001b[2K     \u001b[90m━━━━━━━━━━━━━━━━━━━━━━━━━━━━━━━━━━━━━━━━\u001b[0m \u001b[32m6.7/6.7 MB\u001b[0m \u001b[31m89.6 MB/s\u001b[0m eta \u001b[36m0:00:00\u001b[0m\n",
            "\u001b[?25h  Building wheel for insist-pista (setup.py) ... \u001b[?25l\u001b[?25hdone\n",
            "  Building wheel for asciitree (setup.py) ... \u001b[?25l\u001b[?25hdone\n"
          ]
        }
      ],
      "source": [
        "!pip install insist-pista --quiet"
      ]
    },
    {
      "cell_type": "code",
      "source": [
        "!pip install astroquery --quiet"
      ],
      "metadata": {
        "colab": {
          "base_uri": "https://localhost:8080/"
        },
        "id": "RXErKWV-E-Di",
        "outputId": "f05c2e82-cb93-4ccb-d54f-edec2849642a"
      },
      "execution_count": 16,
      "outputs": [
        {
          "output_type": "stream",
          "name": "stdout",
          "text": [
            "\u001b[2K     \u001b[90m━━━━━━━━━━━━━━━━━━━━━━━━━━━━━━━━━━━━━━━━\u001b[0m \u001b[32m4.5/4.5 MB\u001b[0m \u001b[31m38.7 MB/s\u001b[0m eta \u001b[36m0:00:00\u001b[0m\n",
            "\u001b[2K     \u001b[90m━━━━━━━━━━━━━━━━━━━━━━━━━━━━━━━━━━━━━━\u001b[0m \u001b[32m887.9/887.9 kB\u001b[0m \u001b[31m46.9 MB/s\u001b[0m eta \u001b[36m0:00:00\u001b[0m\n",
            "\u001b[2K     \u001b[90m━━━━━━━━━━━━━━━━━━━━━━━━━━━━━━━━━━━━━━━━\u001b[0m \u001b[32m48.4/48.4 kB\u001b[0m \u001b[31m5.2 MB/s\u001b[0m eta \u001b[36m0:00:00\u001b[0m\n",
            "\u001b[2K     \u001b[90m━━━━━━━━━━━━━━━━━━━━━━━━━━━━━━━━━━━━━━━━\u001b[0m \u001b[32m4.3/4.3 MB\u001b[0m \u001b[31m75.2 MB/s\u001b[0m eta \u001b[36m0:00:00\u001b[0m\n",
            "\u001b[?25h"
          ]
        }
      ]
    },
    {
      "cell_type": "code",
      "source": [
        "from astroquery.astrometry_net import AstrometryNet"
      ],
      "metadata": {
        "id": "GR72FGrdFK30"
      },
      "execution_count": 18,
      "outputs": []
    },
    {
      "cell_type": "code",
      "source": [
        "import pista as pt\n",
        "import numpy as np\n",
        "import os\n",
        "import matplotlib.pyplot as plt\n",
        "\n",
        "import matplotlib.colors as col\n",
        "from astropy.io import fits\n",
        "from astropy.table import Table"
      ],
      "metadata": {
        "id": "P2iN-yAJIjnD"
      },
      "execution_count": 2,
      "outputs": []
    },
    {
      "cell_type": "code",
      "source": [
        "data_path = pt.data_dir"
      ],
      "metadata": {
        "id": "tw67t48MKJIy"
      },
      "execution_count": 3,
      "outputs": []
    },
    {
      "cell_type": "code",
      "source": [
        "!git clone https://github.com/Jack3690/INSIST_pipeline --quiet"
      ],
      "metadata": {
        "id": "DfvgWO2V_uzg"
      },
      "execution_count": 4,
      "outputs": []
    },
    {
      "cell_type": "markdown",
      "source": [
        "# **Image Generation using PISTA**"
      ],
      "metadata": {
        "id": "9nx8kLRJJ6ew"
      }
    },
    {
      "cell_type": "code",
      "source": [
        "if not os.path.exists('input_data'):\n",
        "  os.mkdir('input_data')"
      ],
      "metadata": {
        "id": "L5D9EAhQZ7TY"
      },
      "execution_count": 6,
      "outputs": []
    },
    {
      "cell_type": "code",
      "source": [
        "# Example using FITS table\n",
        "tab = Table.read(f'{data_path}/sample.fits')  # FITS Table\n",
        "df  = tab.to_pandas()             # PISTA requires pandas DataFrame"
      ],
      "metadata": {
        "id": "goyqnJb4I-Ri"
      },
      "execution_count": 7,
      "outputs": []
    },
    {
      "cell_type": "code",
      "source": [
        "tel_params = {\n",
        "              'aperture'       : 100,\n",
        "              'pixel_scale'    : 0.1,\n",
        "              'psf_file'       : f'{data_path}/PSF/INSIST/off_axis_hcipy.npy',\n",
        "              'response_funcs' :  [ f'{data_path}/INSIST/UV/Filter.dat,1,100',\n",
        "                                    f'{data_path}/INSIST/UV/Coating.dat,5,100',   # 5 mirrors\n",
        "                                    f'{data_path}/INSIST/UV/Dichroic.dat,2,100',   # 2 dichroics\n",
        "                                  ],\n",
        "              }\n",
        "\n",
        "det_params = {    'shot_noise' :  'Gaussian',\n",
        "                  'G1'         :  1,\n",
        "                  'PRNU_frac'  :  0.25/100,\n",
        "                  'qe_response': [f'{data_path}/INSIST/UV/QE.dat,1,100'],\n",
        "                  'RN'         :  5,\n",
        "                  'T'          :  218,\n",
        "                  'DCNU'       :  0.1/100\n",
        "             }"
      ],
      "metadata": {
        "id": "kg--3nTmNJUC"
      },
      "execution_count": 9,
      "outputs": []
    },
    {
      "cell_type": "code",
      "source": [
        "sim = pt.Imager(df = df,tel_params = tel_params, n_x = 500, n_y = 500,\n",
        "                exp_time = 2400)\n",
        "\n",
        "user_profiles = {'PRNU' : sim.flat_frame,\n",
        "                 'Bias' : sim.bias_array,\n",
        "                 'DNFP' : sim.DNFP_array}\n",
        "\n",
        "sim(det_params = det_params, photometry = None)\n",
        "\n",
        "for i, t in enumerate([800, 600, 1000, 1000, 600]):\n",
        "\n",
        "  del_ra = np.random.random(1)[0]/3600\n",
        "  del_dec = np.random.random(1)[0]/3600\n",
        "\n",
        "  coords = (11.0689964234 + del_ra, 41.3520244153 + del_dec)\n",
        "\n",
        "  sim = pt.Imager(df = df, coords = coords,\n",
        "                  tel_params = tel_params, n_x = 500, n_y = 500,\n",
        "                  exp_time = t, user_profiles = user_profiles)\n",
        "  sim( det_params = det_params, photometry = None)\n",
        "\n",
        "  sim.writeto(f'input_data/img{i}.fits')\n",
        "  flux = 10**(0.4*sim.ZP)/sim.exp_time\n",
        "  ZP = 2.5*np.log10(flux)"
      ],
      "metadata": {
        "id": "8PlHly-KNUMt"
      },
      "execution_count": 10,
      "outputs": []
    },
    {
      "cell_type": "markdown",
      "source": [
        "# **Pipeline**"
      ],
      "metadata": {
        "id": "WRCVhPg9RvFH"
      }
    },
    {
      "cell_type": "markdown",
      "source": [
        "## **Calibration**"
      ],
      "metadata": {
        "id": "Hc9J-b3nRzZm"
      }
    },
    {
      "cell_type": "code",
      "source": [
        "input_dir = '/content/input_data'\n",
        "cal_db = '/content/INSIST_pipeline/data/Cal_DB'\n",
        "\n",
        "dark = fits.open(f'{cal_db}/Master_Dark.fits')[0].data\n",
        "bias = fits.open(f'{cal_db}/Master_Bias.fits')[0].data\n",
        "flat = fits.open(f'{cal_db}/Master_Flat.fits')[0].data\n",
        "\n",
        "out_dir = 'Out_FC'\n",
        "if not os.path.exists(out_dir):\n",
        "  os.mkdir(out_dir)\n",
        "for f in os.listdir(input_dir):\n",
        "\n",
        "  hdul = fits.open(f'{input_dir}/{f}')\n",
        "  data = hdul[0].data/hdul[0].header['EXPTIME']\n",
        "\n",
        "  # Dark and Bias Subtraction\n",
        "  data_DB = data - bias - dark\n",
        "\n",
        "  # Flat fielding\n",
        "  data_F = data_DB/flat\n",
        "\n",
        "  hdul[0].data = data_F\n",
        "  hdul[0].header['FRAME'] = \"FLUX CALIBRATED\"\n",
        "  hdul[0].header['BUNIT'] ='ADU'\n",
        "  hdul[0].header['ZP'] = 22.239\n",
        "  hdul.writeto(f\"{out_dir}/{f.split('.')[0]}_FC.fits\", overwrite = True)"
      ],
      "metadata": {
        "id": "BtxWMTFURxZ8"
      },
      "execution_count": 34,
      "outputs": []
    },
    {
      "cell_type": "markdown",
      "source": [
        "## **Pre-processing**"
      ],
      "metadata": {
        "id": "wsaVK8sWCe3Z"
      }
    },
    {
      "cell_type": "code",
      "source": [
        "%history"
      ],
      "metadata": {
        "id": "QYpPznWSA6i3"
      },
      "execution_count": null,
      "outputs": []
    },
    {
      "cell_type": "markdown",
      "source": [
        "## **Astrometric Calibration**"
      ],
      "metadata": {
        "id": "hQAtzi6NCiU4"
      }
    },
    {
      "cell_type": "code",
      "source": [
        "out_dir = 'Out_FC'\n",
        "\n",
        "ast = AstrometryNet()\n",
        "ast.api_key = 'pmkaisuqszgpqvls'\n",
        "for f in os.listdir(out_dir):\n",
        "  dir = f'{out_dir}/{f}'\n",
        "  out = ast.solve_from_image(dir,ra_key='CRVAL1',\n",
        "                       dec_key='CRVAL2',\n",
        "                       ra_dec_units = 'degree',\n",
        "                       solve_timeout=30)\n",
        "  break\n",
        ""
      ],
      "metadata": {
        "colab": {
          "base_uri": "https://localhost:8080/"
        },
        "id": "GQVsPFt5A6xw",
        "outputId": "9059b7c9-989b-471f-99d5-a8d0b79d919e"
      },
      "execution_count": 38,
      "outputs": [
        {
          "output_type": "stream",
          "name": "stderr",
          "text": [
            "INFO:astropy:using the unit adu passed to the FITS reader instead of the unit adu in the FITS file.\n"
          ]
        },
        {
          "output_type": "stream",
          "name": "stdout",
          "text": [
            "INFO: using the unit adu passed to the FITS reader instead of the unit adu in the FITS file. [astropy.nddata.ccddata]\n",
            "Determining background stats\n",
            "Finding sources\n",
            "Found 14 sources\n",
            " id     xcentroid      ...        flux                mag         \n",
            "--- ------------------ ... ------------------ --------------------\n",
            "  6  278.0627118823046 ...  4.620996678883115  -1.6618391409768885\n",
            "  7 288.06674564937026 ...   4.58960064274397  -1.6544372442363253\n",
            " 12  71.94982972212146 ...  3.804860045048083  -1.4508467166421748\n",
            " 10  280.0718413064401 ...  3.773681160802485  -1.4419130093433359\n",
            "  2 352.97093198891105 ... 3.4868073891396523  -1.3560698941467344\n",
            "  4 268.01404014069163 ... 2.7657274951797786  -1.1045234680215745\n",
            "  5   291.057062419228 ... 2.0494797963805143  -0.7791091035772574\n",
            "  8 126.14697495891298 ... 1.9842497301293378  -0.7439908247771208\n",
            " 13 418.02858517002915 ... 1.5545281462498721 -0.47899647444005533\n",
            " 11 282.06741491144044 ... 1.4953806530350546 -0.43687939380849816\n",
            " 14 168.07448295061334 ...  1.406322495576934 -0.37021230951415623\n",
            "  9 219.28543849970765 ... 1.1885745154307377 -0.18756603547168596\n",
            "  3  261.0445722228563 ... 1.0881394467717462  -0.0917113861141154\n",
            "  1 108.88929152641147 ...  1.083513468750204  -0.0870857856036798\n",
            "Solving.........."
          ]
        }
      ]
    },
    {
      "cell_type": "code",
      "source": [
        "out"
      ],
      "metadata": {
        "id": "ARMXtlyREc5Q",
        "colab": {
          "base_uri": "https://localhost:8080/"
        },
        "outputId": "84fe4d17-3683-465f-b2e0-69a2f01b0055"
      },
      "execution_count": 39,
      "outputs": [
        {
          "output_type": "execute_result",
          "data": {
            "text/plain": [
              "{}"
            ]
          },
          "metadata": {},
          "execution_count": 39
        }
      ]
    },
    {
      "cell_type": "code",
      "source": [],
      "metadata": {
        "id": "cTLaoJQYFxJ8"
      },
      "execution_count": null,
      "outputs": []
    },
    {
      "cell_type": "code",
      "source": [],
      "metadata": {
        "id": "jMPtd_O2Gt9M"
      },
      "execution_count": null,
      "outputs": []
    }
  ]
}